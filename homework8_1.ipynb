{
  "nbformat": 4,
  "nbformat_minor": 0,
  "metadata": {
    "colab": {
      "name": "homework8.1.ipynb",
      "provenance": [],
      "authorship_tag": "ABX9TyMbbMb0bGvuFZFuXbQdp5YS",
      "include_colab_link": true
    },
    "kernelspec": {
      "name": "python3",
      "display_name": "Python 3"
    },
    "language_info": {
      "name": "python"
    }
  },
  "cells": [
    {
      "cell_type": "markdown",
      "metadata": {
        "id": "view-in-github",
        "colab_type": "text"
      },
      "source": [
        "<a href=\"https://colab.research.google.com/github/KezhenLi/Homework8/blob/main/homework8_1.ipynb\" target=\"_parent\"><img src=\"https://colab.research.google.com/assets/colab-badge.svg\" alt=\"Open In Colab\"/></a>"
      ]
    },
    {
      "cell_type": "code",
      "metadata": {
        "id": "AwnrY6qOt2NN"
      },
      "source": [
        "from numpy.random import random"
      ],
      "execution_count": 17,
      "outputs": []
    },
    {
      "cell_type": "code",
      "metadata": {
        "colab": {
          "base_uri": "https://localhost:8080/"
        },
        "id": "dsCRlyU7t_wK",
        "outputId": "70fc97dd-4b1a-4747-885a-14a4297dbf53"
      },
      "source": [
        "N = 1000000\n",
        "count = 0\n",
        "for i in range(N):\n",
        "  x1 = random()\n",
        "  x2 = random()\n",
        "  x3 = random()\n",
        "  x4 = random()\n",
        "  x5 = random()\n",
        "  x6 = random()\n",
        "  x7 = random()\n",
        "  x8 = random()\n",
        "  x9 = random()\n",
        "  x10 = random()\n",
        "  sum = x1**2+x2**2+x3**2+x4**2+x5**2+x6**2+x7**2+x8**2+x9**2+x10**2\n",
        "  if sum < 1:\n",
        "    count += 1\n",
        "\n",
        "I = 2**10 * count/N\n",
        "print(I)"
      ],
      "execution_count": 18,
      "outputs": [
        {
          "output_type": "stream",
          "text": [
            "2.532352\n"
          ],
          "name": "stdout"
        }
      ]
    }
  ]
}